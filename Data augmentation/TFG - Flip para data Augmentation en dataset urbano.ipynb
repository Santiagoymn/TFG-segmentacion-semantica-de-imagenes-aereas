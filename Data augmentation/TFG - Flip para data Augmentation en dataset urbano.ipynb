{
 "cells": [
  {
   "cell_type": "code",
   "execution_count": null,
   "id": "0d6c9749",
   "metadata": {},
   "outputs": [],
   "source": [
    "import os\n",
    "from PIL import Image\n",
    "\n",
    "input_dir = \"G:/dataset_urbano/original_images\"\n",
    "output_dir = \"G:/dataset_urbano/train\"\n",
    "\n",
    "\n",
    "for filename in os.listdir(input_dir):\n",
    "    if filename.endswith(\".jpg\") or filename.endswith(\".png\") or filename.endswith(\".jpeg\"):\n",
    "        \n",
    "        # Open the image\n",
    "        img_path = os.path.join(input_dir, filename)\n",
    "        img = Image.open(img_path)\n",
    "\n",
    "        # Do a horizontal flip\n",
    "        img_flip = img.transpose(Image.FLIP_LEFT_RIGHT)\n",
    "        \n",
    "        filename = \"flip_\" + filename\n",
    "\n",
    "        # Save the flipped image in the output directory\n",
    "        output_path = os.path.join(output_dir, filename)\n",
    "        img_flip.save(output_path)\n"
   ]
  }
 ],
 "metadata": {
  "kernelspec": {
   "display_name": "Python 3 (ipykernel)",
   "language": "python",
   "name": "python3"
  },
  "language_info": {
   "codemirror_mode": {
    "name": "ipython",
    "version": 3
   },
   "file_extension": ".py",
   "mimetype": "text/x-python",
   "name": "python",
   "nbconvert_exporter": "python",
   "pygments_lexer": "ipython3",
   "version": "3.9.13"
  }
 },
 "nbformat": 4,
 "nbformat_minor": 5
}

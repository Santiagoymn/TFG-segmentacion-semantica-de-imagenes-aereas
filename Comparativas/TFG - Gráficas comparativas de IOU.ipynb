{
 "cells": [
  {
   "cell_type": "code",
   "execution_count": null,
   "id": "06af0264",
   "metadata": {},
   "outputs": [],
   "source": [
    "import matplotlib.pyplot as plt\n",
    "import numpy as np"
   ]
  },
  {
   "cell_type": "markdown",
   "id": "e8cb77f0",
   "metadata": {},
   "source": [
    "## Gráfica comparación de IOU para las dos arquitecturas en los primeros entrenamientos con dataset Rural"
   ]
  },
  {
   "cell_type": "code",
   "execution_count": null,
   "id": "e6db85e9",
   "metadata": {},
   "outputs": [],
   "source": [
    "# IOU values for the two architectures\n",
    "caregories = ['Hill', 'Forest', 'Residential', 'Land', 'Church', 'Road', 'Fence', 'Person', 'Car', 'Sky', 'Haystack', 'Water', 'Global']\n",
    "bar_values1 = [85.76, 86.63, 85.10, 82.04, 81.89, 74.55, 55.01, 59.60, 38.42, 98.02, 15.23, 84.23, 84.58]\n",
    "bar_values2 = [85.61, 87.81, 86.61, 84.04, 86.21, 79.39, 64.30, 60.63, 54.70, 96.93, 10.67, 85.01, 86.28]\n",
    "\n",
    "# Graph configuration\n",
    "width_bars = 0.35\n",
    "index = np.arange(len(caregories))\n",
    "\n",
    "fig, ax = plt.subplots()\n",
    "\n",
    "# Draw the bars\n",
    "ax.bar(index, bar_values1, width_bars, label='ResNetUNet', color='#579AA0')\n",
    "ax.bar(index + width_bars, bar_values2, width_bars, label='DeepLabV3', color='#E48E21')\n",
    "\n",
    "ax.set_xlabel('Clases')\n",
    "ax.set_ylabel('Porcentaje de intersección')\n",
    "ax.set_title('IOU ResNetUNet VS DeepLabV3 en dataset rural')\n",
    "\n",
    "ax.set_xticks(index + width_bars / 2)\n",
    "ax.set_xticklabels(caregories, rotation=60)\n",
    "\n",
    "ax.legend(loc='center left', bbox_to_anchor=(1, 0.5))\n",
    "\n",
    "plt.show()"
   ]
  },
  {
   "cell_type": "markdown",
   "id": "5a1c08cd",
   "metadata": {},
   "source": [
    "## Gráfica comparación de IOU para las dos arquitecturas en los primeros entrenamientos con dataset Urbano"
   ]
  },
  {
   "cell_type": "code",
   "execution_count": null,
   "id": "07568cfb",
   "metadata": {},
   "outputs": [],
   "source": [
    "# IOU values for the two architectures\n",
    "caregories = ['Clutter', 'Building', 'Road', 'Static_car', 'Tree', 'Vegetation', 'Human', 'Moving_car', 'Global']\n",
    "bar_values1 = [55.89, 87.33, 71.47, 28.19, 72.66, 64.32, 00.00, 41.01, 71.81]\n",
    "bar_values2 = [60.71, 88.40, 72.98, 34.97, 74.33, 67.60, 00.00, 32.35, 74.22]\n",
    "\n",
    "# Graph configuration\n",
    "width_bars = 0.35\n",
    "index = np.arange(len(caregories))\n",
    "\n",
    "fig, ax = plt.subplots()\n",
    "\n",
    "# Draw the bars\n",
    "ax.bar(index, bar_values1, width_bars, label='ResNetUNet', color='#579AA0')\n",
    "ax.bar(index + width_bars, bar_values2, width_bars, label='DeepLabV3', color='#E48E21')\n",
    "\n",
    "ax.set_xlabel('Clases')\n",
    "ax.set_ylabel('Porcentaje de intersección')\n",
    "ax.set_title('IOU ResNetUNet VS DeepLabV3 en dataset urbano')\n",
    "\n",
    "ax.set_xticks(index + width_bars / 2)\n",
    "ax.set_xticklabels(caregories, rotation=60)\n",
    "\n",
    "ax.legend(loc='center left', bbox_to_anchor=(1, 0.5))\n",
    "\n",
    "plt.show()"
   ]
  },
  {
   "cell_type": "markdown",
   "id": "15ad6fdb",
   "metadata": {},
   "source": [
    "## Gráfica comparación de IOU para las dos arquitecturas en la mejora de entrenamientos con dataset Rural"
   ]
  },
  {
   "cell_type": "code",
   "execution_count": null,
   "id": "92dcc706",
   "metadata": {},
   "outputs": [],
   "source": [
    "# IOU values for the two architectures\n",
    "caregories = ['Hill', 'Forest', 'Residential', 'Land', 'Church', 'Road', 'Fence', 'Person', 'Car', 'Sky', 'Haystack', 'Water', 'Global']\n",
    "bar_values1 = [84.60, 86.81, 84.45, 80.90, 83.07, 70.13, 55.29, 57.64, 27.47, 97.61, 4.28, 87.87, 84.29]\n",
    "bar_values2 = [84.58, 87.45, 83.55, 82.75, 85.22, 74.55, 61.55, 57.88, 48.84, 96.49, 8.67, 87.17, 85.02]\n",
    "\n",
    "# Graph configuration\n",
    "width_bars = 0.35\n",
    "index = np.arange(len(caregories))\n",
    "\n",
    "fig, ax = plt.subplots()\n",
    "\n",
    "# Draw the bars\n",
    "ax.bar(index, bar_values1, width_bars, label='ResNetUNet', color='#579AA0')\n",
    "ax.bar(index + width_bars, bar_values2, width_bars, label='DeepLabV3', color='#E48E21')\n",
    "\n",
    "ax.set_xlabel('Clases')\n",
    "ax.set_ylabel('Porcentaje de intersección')\n",
    "ax.set_title('IOU ResNetUNet VS DeepLabV3 en dataset rural')\n",
    "\n",
    "ax.set_xticks(index + width_bars / 2)\n",
    "ax.set_xticklabels(caregories, rotation=60)\n",
    "\n",
    "ax.legend(loc='center left', bbox_to_anchor=(1, 0.5))\n",
    "\n",
    "plt.show()"
   ]
  },
  {
   "cell_type": "markdown",
   "id": "f96be646",
   "metadata": {},
   "source": [
    "## Gráfica comparación de IOU para las dos arquitecturas en la mejora de entrenamientos con dataset Urbano"
   ]
  },
  {
   "cell_type": "code",
   "execution_count": null,
   "id": "3877179f",
   "metadata": {},
   "outputs": [],
   "source": [
    "# IOU values for the two architectures\n",
    "caregories = ['Clutter', 'Building', 'Road', 'Static_car', 'Tree', 'Vegetation', 'Human', 'Moving_car', 'Global']\n",
    "bar_values1 = [60.69, 84.43, 74.75, 31.42, 73.01, 58.73, 00.00, 44.75, 71.11]\n",
    "bar_values2 = [69.83, 88.98, 77.23, 43.64, 76.09, 64.59, 00.00, 38.75, 75.94]\n",
    "\n",
    "# Graph configuration\n",
    "width_bars = 0.35\n",
    "index = np.arange(len(caregories))\n",
    "\n",
    "fig, ax = plt.subplots()\n",
    "\n",
    "# Draw the bars\n",
    "ax.bar(index, bar_values1, width_bars, label='ResNetUNet', color='#579AA0')\n",
    "ax.bar(index + width_bars, bar_values2, width_bars, label='DeepLabV3', color='#E48E21')\n",
    "\n",
    "ax.set_xlabel('Clases')\n",
    "ax.set_ylabel('Porcentaje de intersección')\n",
    "ax.set_title('IOU ResNetUNet VS DeepLabV3 en dataset urbano')\n",
    "\n",
    "ax.set_xticks(index + width_bars / 2)\n",
    "ax.set_xticklabels(caregories, rotation=60)\n",
    "\n",
    "ax.legend(loc='center left', bbox_to_anchor=(1, 0.5))\n",
    "\n",
    "plt.show()"
   ]
  }
 ],
 "metadata": {
  "kernelspec": {
   "display_name": "Python 3 (ipykernel)",
   "language": "python",
   "name": "python3"
  },
  "language_info": {
   "codemirror_mode": {
    "name": "ipython",
    "version": 3
   },
   "file_extension": ".py",
   "mimetype": "text/x-python",
   "name": "python",
   "nbconvert_exporter": "python",
   "pygments_lexer": "ipython3",
   "version": "3.9.13"
  }
 },
 "nbformat": 4,
 "nbformat_minor": 5
}
